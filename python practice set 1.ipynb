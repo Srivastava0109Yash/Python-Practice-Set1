{
 "cells": [
  {
   "cell_type": "markdown",
   "id": "959c9a12",
   "metadata": {},
   "source": [
    "### Q1. Write a Python program that defines a function called       \"add_numbers\" that takes two arguments (i.e., numbers) and returns their sum. Within the function, add the two numbers together and return the result using the return statement. Call the function with the values 5 and 6, and print out the returned result. This will result in the addition of 5 and 6, with the output of the program being the sum of these two numbers."
   ]
  },
  {
   "cell_type": "code",
   "execution_count": 1,
   "id": "589125e2",
   "metadata": {},
   "outputs": [
    {
     "name": "stdout",
     "output_type": "stream",
     "text": [
      "sum of 5 and 6 is:  11\n"
     ]
    }
   ],
   "source": [
    "def sum_nums(n1,n2):\n",
    "    c=n1+n2\n",
    "    return c\n",
    "\n",
    "summ=sum_nums(5,6)\n",
    "\n",
    "print(\"sum of 5 and 6 is: \",summ)"
   ]
  },
  {
   "cell_type": "markdown",
   "id": "f87fb0f5",
   "metadata": {},
   "source": [
    "### Q2. Write a Python program that calculates the square root of a given number using a built-in function."
   ]
  },
  {
   "cell_type": "code",
   "execution_count": 2,
   "id": "65e6a2e8",
   "metadata": {},
   "outputs": [
    {
     "name": "stdout",
     "output_type": "stream",
     "text": [
      "Enter a number to calculate its square root: 225\n",
      "The Square root of 225 is: 15.0\n"
     ]
    }
   ],
   "source": [
    "import math \n",
    "\n",
    "n=int(input(\"Enter a number to calculate its square root: \"))\n",
    "\n",
    "sqr_rt=math.sqrt(n)\n",
    "\n",
    "print(f\"The Square root of {n} is: {sqr_rt}\")"
   ]
  },
  {
   "cell_type": "markdown",
   "id": "5b1f7aea",
   "metadata": {},
   "source": [
    "### Q3.Write a program that prints all prime numbers between 0 to 50."
   ]
  },
  {
   "cell_type": "code",
   "execution_count": 3,
   "id": "797c1694",
   "metadata": {},
   "outputs": [
    {
     "name": "stdout",
     "output_type": "stream",
     "text": [
      "2 3 5 7 11 13 17 19 23 29 31 37 41 43 47 "
     ]
    }
   ],
   "source": [
    "for i in range(2,51):\n",
    "    for j in range(2,i):\n",
    "        if i%j==0:\n",
    "            break\n",
    "            \n",
    "    else:\n",
    "        print(i,end=\" \")\n"
   ]
  },
  {
   "cell_type": "markdown",
   "id": "6b0f864b",
   "metadata": {},
   "source": [
    "### Q4.How can we swap the values of three variables (let's say a, b, and c) without using a fourth variable? For example, if we have a=5, b=8, and c=9, how can we obtain a=9, b=5, and c=8? The challenge is to perform this operation without using an additional variable to store any of the values during the swapping process."
   ]
  },
  {
   "cell_type": "code",
   "execution_count": 5,
   "id": "68a01a81",
   "metadata": {},
   "outputs": [
    {
     "name": "stdout",
     "output_type": "stream",
     "text": [
      "3 4 5\n",
      "a: 5\n",
      "b: 3\n",
      "c: 4\n"
     ]
    }
   ],
   "source": [
    "def swap_three(a, b, c):\n",
    "    \n",
    "    a=a+b+c # sum of all three values\n",
    "    b=a-b-c # value of a\n",
    "    c=a-b-c # valaue of b\n",
    "    a=a-b-c # value of c\n",
    "    \n",
    "    return a,b,c\n",
    "\n",
    "a,b,c=list(map(int,input().strip().split()))\n",
    "a,b,c=swap_three(a,b,c)    \n",
    "print(\"a:\",a)\n",
    "print(\"b:\",b)\n",
    "print(\"c:\",c)"
   ]
  },
  {
   "cell_type": "markdown",
   "id": "46b5cc23",
   "metadata": {},
   "source": [
    "### Q5. Can you write a program that determines the nature of a given number (in this case, 87) as being positive, negative, or zero? The program should be designed to take the number as input and perform the necessary calculations to determine if the number is positive (i.e., greater than zero), negative (i.e., less than zero), or zero (i.e., equal to zero). The output of the program should indicate which of these three categories the given number falls into."
   ]
  },
  {
   "cell_type": "code",
   "execution_count": 6,
   "id": "abaf35ee",
   "metadata": {},
   "outputs": [
    {
     "name": "stdout",
     "output_type": "stream",
     "text": [
      "Enter a number: 345\n",
      "345 is positive\n"
     ]
    }
   ],
   "source": [
    "def num_c(num):\n",
    "    \n",
    "    if num>0:\n",
    "        print(f\"{num} is positive\")\n",
    "    \n",
    "    elif num<0:\n",
    "        print(f\"{num} is negative\")\n",
    "        \n",
    "    else:\n",
    "        print(f\"{num} is zero\")\n",
    "        \n",
    "num=int(input(\"Enter a number: \"))\n",
    "num_c(num)"
   ]
  },
  {
   "cell_type": "markdown",
   "id": "53fe25e1",
   "metadata": {},
   "source": [
    "### Q6. How can you create a program that determines whether a given number (in this case, 98) is even or odd? The program should be designed to take the number as input and perform the necessary calculations to determine whether it is divisible by two. If the number is divisible by two without leaving a remainder, it is an even number, and if there is a remainder, it is an odd number. The output of the program should indicate whether the given number is even or odd."
   ]
  },
  {
   "cell_type": "code",
   "execution_count": 7,
   "id": "8ab517de",
   "metadata": {},
   "outputs": [
    {
     "name": "stdout",
     "output_type": "stream",
     "text": [
      "enter the number: 12\n",
      "12 is even\n"
     ]
    }
   ],
   "source": [
    "def even_odd(num):\n",
    "    \n",
    "    if num%2==0:\n",
    "        print(f\"{num} is even\")\n",
    "        \n",
    "    else:\n",
    "        print(f\"{num} is odd\")\n",
    "        \n",
    "a=int(input(\"enter the number: \"))\n",
    "even_odd(a)"
   ]
  },
  {
   "cell_type": "markdown",
   "id": "59f6d243",
   "metadata": {},
   "source": [
    "### Q7.Write a program for sum of digits.the digits are 76543 and the output should be 25."
   ]
  },
  {
   "cell_type": "code",
   "execution_count": 8,
   "id": "a027455f",
   "metadata": {},
   "outputs": [
    {
     "name": "stdout",
     "output_type": "stream",
     "text": [
      "Enter the number: 76543\n",
      "sum:  25\n"
     ]
    }
   ],
   "source": [
    "def sum_of_digits(n):\n",
    "    a=str(n)\n",
    "    summ=0\n",
    "    for i in a:\n",
    "        summ+=int(i)\n",
    "        \n",
    "    return summ \n",
    "\n",
    "n=int(input(\"Enter the number: \"))\n",
    "print(\"sum: \",sum_of_digits(n))"
   ]
  },
  {
   "cell_type": "markdown",
   "id": "b8daf1bb",
   "metadata": {},
   "source": [
    "### Q8.Write a program for reversing the given number 5436 and the output should be 6345."
   ]
  },
  {
   "cell_type": "code",
   "execution_count": 9,
   "id": "ab52c2b5",
   "metadata": {},
   "outputs": [
    {
     "name": "stdout",
     "output_type": "stream",
     "text": [
      "Enter the number: 5436\n",
      "reverse of 5436 is:  6345\n"
     ]
    }
   ],
   "source": [
    "def reverse_num(n):\n",
    "    a=str(n)\n",
    "    b=a[::-1]\n",
    "    \n",
    "    return int(b)\n",
    "\n",
    "a=int(input(\"Enter the number: \"))\n",
    "print(f\"reverse of {a} is: \",reverse_num(a))\n"
   ]
  },
  {
   "cell_type": "markdown",
   "id": "e71c0e42",
   "metadata": {},
   "source": [
    "### Q9.Write a program to check if a given number 371 is an Armstrong number?"
   ]
  },
  {
   "cell_type": "code",
   "execution_count": 10,
   "id": "e6c4b7e1",
   "metadata": {},
   "outputs": [
    {
     "name": "stdout",
     "output_type": "stream",
     "text": [
      "371 is an Armstrong number\n"
     ]
    }
   ],
   "source": [
    "num=371\n",
    "\n",
    "summ=0\n",
    "temp=num\n",
    "\n",
    "while temp>0:\n",
    "    digit=temp%10\n",
    "    summ+=digit**3\n",
    "    temp//=10\n",
    "\n",
    "if num == summ:\n",
    "    print(num, \"is an Armstrong number\")\n",
    "else:\n",
    "    print(num, \"is not an Armstrong number\")\n",
    "    \n",
    "    "
   ]
  },
  {
   "cell_type": "markdown",
   "id": "7ab5faca",
   "metadata": {},
   "source": [
    "### Q10.Write a program the given year is 1996, a leap year."
   ]
  },
  {
   "cell_type": "code",
   "execution_count": 11,
   "id": "5ddd368f",
   "metadata": {},
   "outputs": [
    {
     "name": "stdout",
     "output_type": "stream",
     "text": [
      "1996 is a leap year\n"
     ]
    }
   ],
   "source": [
    "year=1996\n",
    "\n",
    "if year % 4 == 0:\n",
    "    if year % 100 == 0:\n",
    "        if year % 400 == 0:\n",
    "            print(year, \"is a leap year\")\n",
    "        else:\n",
    "            print(year, \"is not a leap year\")\n",
    "    else:\n",
    "        print(year, \"is a leap year\")\n",
    "else:\n",
    "    print(year, \"is not a leap year\")"
   ]
  },
  {
   "cell_type": "code",
   "execution_count": null,
   "id": "bd6b9a9f",
   "metadata": {},
   "outputs": [],
   "source": []
  }
 ],
 "metadata": {
  "kernelspec": {
   "display_name": "Python 3 (ipykernel)",
   "language": "python",
   "name": "python3"
  },
  "language_info": {
   "codemirror_mode": {
    "name": "ipython",
    "version": 3
   },
   "file_extension": ".py",
   "mimetype": "text/x-python",
   "name": "python",
   "nbconvert_exporter": "python",
   "pygments_lexer": "ipython3",
   "version": "3.9.7"
  }
 },
 "nbformat": 4,
 "nbformat_minor": 5
}
